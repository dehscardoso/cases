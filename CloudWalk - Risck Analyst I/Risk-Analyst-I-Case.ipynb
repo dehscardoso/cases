{
 "cells": [
  {
   "cell_type": "markdown",
   "id": "1b27f2da",
   "metadata": {},
   "source": [
    "<img src = \"https://images2.imgbox.com/71/fb/3HdZ0WmY_o.jpg\" width=\"500\">"
   ]
  },
  {
   "cell_type": "markdown",
   "id": "2c71f4ca",
   "metadata": {},
   "source": [
    "# Risk Analyst I - Case\n",
    "---\n",
    "\n",
    "## 1. Introduction\n",
    "\n",
    "This test is intended for candidates applying to Risk Analyst positions at CloudWalk. If you get here, we already like you and see you as a good fit with our company. Now, we propose a challenge similar to the ones that we face on a daily basis. The challenges were created with the objective of helping you build the knowledge base needed to implement the technical assessment in the end. Enjoy!\n",
    "\n",
    "- The first challenge will help you understand better how the payments industry works;  \n",
    "- The second challenge is a real world customer problem;\n",
    "- The third challenge is similar to what you will be doing on a daily basis.\n",
    "\n",
    "We expect you to understand our role and challenges facing the financial industry, and to bring data driven solutions.\n",
    "\n",
    "---\n",
    "\n",
    "\n",
    "## 2. Tasks\n",
    "\n",
    "### 2.1. Understand the Industry  \n",
    "\n",
    "\n",
    "#### 2.1.1. Explain briefly the money flow, the information flow and the role of the main players in the payment industry.  \n",
    "      \n",
    "    "
   ]
  },
  {
   "cell_type": "markdown",
   "id": "a40ceb83",
   "metadata": {},
   "source": [
    "In the payment industry, the flow of money and information involves several key players, each with specific roles to ensure the efficient processing of transactions. Here’s a brief overview:\n",
    "\n",
    "### Money Flow\n",
    "\n",
    "<img src = \"https://thumbs2.imgbox.com/e2/21/qYhZygZu_t.png\" width=\"800\">\n",
    "\n",
    "### Information Flow\n",
    "\n",
    "- **Transaction Request**: When the customer initiates a payment, the merchant sends the transaction details (card number, amount, etc.) to the acquiring bank via the payment processor;\n",
    "- **Authorization Request**: The acquiring bank forwards the request to the card network, which then routes it to the issuing bank for authorization;\n",
    "- **Authorization Response**: The issuing bank verifies the customer’s account, checks for sufficient funds or credit, and sends an authorization response (approve or decline) back through the card network to the acquiring bank and the merchant;\n",
    "- **Settlement**: After the authorization, the transaction is captured and the acquiring bank settles the funds with the issuing bank through the card network, which typically takes a few days;\n",
    "- **Confirmation**: The merchant receives confirmation of the transaction, and the customer receives their goods or services.\n",
    "\n",
    "### Main Players and Their Roles\n",
    "\n",
    "- **Customer**: Uses payment methods to purchase goods or services;\n",
    "- **Merchant**: Provides goods or services and initiates payment transactions;\n",
    "- **Acquiring Bank (Acquirer)**: Manages the merchant’s account and processes transactions;\n",
    "- **Issuing Bank (Issuer)**: Issues payment cards to customers and authorizes transactions;\n",
    "- **Card Network**: Acts as a gateway that connects acquirers and issuers, ensuring smooth transaction processing and compliance with regulations;\n",
    "- **Payment Gateway**: Provides the infrastructure for transaction processing, handling communication between merchants, acquirers, and issuers.\n",
    "\n",
    "This ecosystem ensures that transactions are securely authorized, funds are accurately transferred, and merchants receive payments for their goods or services.\n",
    "\n",
    "---"
   ]
  },
  {
   "cell_type": "markdown",
   "id": "d9b21e2d",
   "metadata": {},
   "source": [
    "#### 2.1.2. Explain the main differences between acquirer, sub-acquirer and payment gateway, and how the flow explained in the previous question changes for these players."
   ]
  },
  {
   "cell_type": "markdown",
   "id": "092db9a1",
   "metadata": {},
   "source": [
    "**Acquirer :** An acquiring bank (or acquirer) is a financial institution that processes credit and debit card payments on behalf of merchants. \n",
    "\n",
    "    - Establishes merchant accounts;\n",
    "    - Processes transactions for merchants;\n",
    "    - Transfers funds from the issuing bank to the merchant's account after settlement;\n",
    "    - The acquirer directly interacts with the card networks and issuing banks to facilitate transaction authorization and settlement;\n",
    "    - The acquirer holds the merchant account where funds are eventually deposited.\n",
    "    \n",
    "**Flow with Acquirer**\n",
    "\n",
    "    - Customer: Initiates a purchase;\n",
    "    - Merchant: Sends transaction details to the acquirer via the payment processor;\n",
    "    - Acquirer: Processes the transaction, interacts with card networks, and communicates with the issuing bank for authorization;\n",
    "    - Issuing Bank: Authorizes the transaction;\n",
    "    - Acquirer: Settles funds to the merchant’s account.\n",
    "---\n",
    "\n",
    "**Sub-Acquirer:** A sub-acquirer, often referred to as a payment facilitator (PayFac), is an entity that works under an acquirer to provide payment processing services to smaller merchants. \n",
    "\n",
    "    - Acts as an intermediary between merchants and the acquirer;\n",
    "    - Aggregates multiple merchants under a single master merchant account with the acquirer;\n",
    "    - Simplifies the onboarding process for small merchants by reducing the need for each to have a direct relationship with an acquirer;\n",
    "    - The sub-acquirer collects transaction details from its merchants and sends them to the acquirer;\n",
    "    - The acquirer processes the transactions and settles the funds to the sub-acquirer, who then distributes the funds to individual merchants.\n",
    "    \n",
    "**Flow with Sub-Acquirer**\n",
    "\n",
    "    - Customer: Initiates a purchase;\n",
    "    - Merchant: Sends transaction details to the sub-acquirer;\n",
    "    - Sub-Acquirer: Aggregates transactions from multiple merchants and sends them to the acquirer;\n",
    "    - Acquirer: Processes transactions, interacts with card networks, and communicates with the issuing bank for authorization;\n",
    "    - Issuing Bank: Authorizes the transactions;\n",
    "    - Acquirer: Settles funds to the sub-acquirer;\n",
    "    - Sub-Acquirer: Distributes funds to individual merchants.\n",
    "\n",
    "---\n",
    "\n",
    "**Payment Gateway:** A payment gateway is a service that authorizes and facilitates online payment transactions between merchants and customers.\n",
    "\n",
    "    - Provides the technical infrastructure to securely capture and transmit payment information from the merchant to the acquiring bank;\n",
    "    - Encrypts sensitive card data to ensure security;\n",
    "    - Often integrates with shopping carts, point-of-sale systems, and other merchant systems;\n",
    "    - The payment gateway captures the transaction details and securely sends them to the acquiring bank;\n",
    "    - It does not hold or manage merchant accounts or settle funds, but acts as a conduit for transaction information.\n",
    "    \n",
    "**Flow with Payment Gateway**\n",
    "\n",
    "    - Customer**: Initiates a purchase;\n",
    "    - Merchant**: Uses the payment gateway to capture and transmit transaction details;\n",
    "    - Payment Gateway**: Sends encrypted transaction details to the acquirer;\n",
    "    - Acquirer**: Processes the transaction, interacts with card networks, and communicates with the issuing bank for authorization;\n",
    "    - Issuing Bank**: Authorizes the transaction;\n",
    "    - Acquirer**: Settles funds to the merchant’s account.\n",
    "\n",
    "In essence, while the acquirer directly handles merchant accounts and transactions, the sub-acquirer provides a layer of aggregation and facilitation for smaller merchants, and the payment gateway offers the necessary technical infrastructure to process payments securely. Each player modifies the flow of transaction details and fund settlement according to their specific roles in the payment ecosystem."
   ]
  },
  {
   "cell_type": "markdown",
   "id": "a7503b3b",
   "metadata": {},
   "source": [
    "---\n",
    "#### 2.1.3. Explain what chargebacks are, how they differ from a cancellation and what is their connection with fraud in the acquiring world."
   ]
  },
  {
   "cell_type": "markdown",
   "id": "877af47f",
   "metadata": {},
   "source": [
    "**Chargebacks:** A chargeback is a transaction reversal initiated by the cardholder's issuing bank, returning the funds to the cardholder. Chargebacks are typically the result of a dispute between the cardholder and the merchant regarding the transaction.\n",
    "\n",
    "**Process**:\n",
    "1. **Initiation**: The cardholder disputes a transaction, claiming unauthorized charges, non-receipt of goods/services, or dissatisfaction with the purchase.\n",
    "2. **Investigation**: The issuing bank investigates the claim, requesting information from the merchant and reviewing the transaction details.\n",
    "3. **Resolution**: If the issuing bank finds the claim valid, the transaction amount is refunded to the cardholder, and the merchant is debited for the amount, including any applicable fees.\n",
    "\n",
    "**Common Reasons**:\n",
    "- Fraudulent transactions\n",
    "- Billing errors\n",
    "- Goods not received\n",
    "- Goods/services not as described\n",
    "- Duplicate charges\n",
    "\n",
    "**Cancellations:** A cancellation occurs when a customer requests to cancel a transaction before it is fully processed and settled. This can happen soon after the purchase, typically within a short timeframe.\n",
    "\n",
    "**Process**:\n",
    "1. **Initiation**: The customer contacts the merchant directly to cancel the transaction.\n",
    "2. **Merchant Action**: The merchant stops the transaction from being processed or reverses the payment if it has already been processed but not settled.\n",
    "3. **Refund**: The merchant issues a refund to the customer’s payment method.\n",
    "\n",
    "**Common Reasons**:\n",
    "- Customer changes mind\n",
    "- Order placed by mistake\n",
    "- Issues resolved directly with the merchant\n",
    "\n",
    "---\n",
    "\n",
    "### Connection of Chargebacks with Fraud in the Acquiring World\n",
    "\n",
    "**Fraudulent Chargebacks**:\n",
    "- **Friendly Fraud**: Cardholders dispute legitimate transactions to get a refund while keeping the goods or services. This is also known as \"first-party fraud.\"\n",
    "- **Criminal Fraud**: Fraudsters use stolen credit card information to make unauthorized purchases. When the cardholder notices and disputes these charges, they result in chargebacks.\n",
    "\n",
    "**Impact on Merchants**:\n",
    "- **Financial Loss**: Merchants lose the transaction amount, pay chargeback fees, and may also lose the goods or services provided.\n",
    "- **Operational Costs**: Merchants incur costs associated with managing and disputing chargebacks.\n",
    "- **Reputation Damage**: High chargeback ratios can damage a merchant's reputation and lead to higher processing fees or even termination of their merchant account by the acquirer.\n",
    "\n",
    "**Role of Acquirers**:\n",
    "- **Monitoring**: Acquirers monitor merchants' chargeback ratios to ensure they remain within acceptable thresholds.\n",
    "- **Risk Management**: Acquirers assess the risk of merchants based on their chargeback history and may impose higher fees or stricter terms on high-risk merchants.\n",
    "- **Support**: Acquirers may provide tools and support to help merchants manage and dispute chargebacks effectively.\n",
    "\n",
    "**Preventing Chargeback Fraud**:\n",
    "- **Fraud Detection Tools**: Merchants and acquirers use advanced fraud detection and prevention tools to identify and block suspicious transactions.\n",
    "- **Clear Communication**: Ensuring transparent communication with customers regarding transaction details, billing descriptors, and return policies.\n",
    "- **Documentation**: Keeping thorough records of transactions, communications, and delivery proofs to dispute illegitimate chargebacks.\n",
    "\n",
    "Chargebacks serve as a consumer protection mechanism but can also be exploited for fraud. Effective management of chargebacks and cancellations is crucial for merchants and acquirers to minimize financial losses and maintain a trustworthy payment ecosystem.\n",
    "\n",
    "---"
   ]
  },
  {
   "cell_type": "markdown",
   "id": "02d99eea",
   "metadata": {},
   "source": [
    "### 2.2. Solve the problem\n",
    "\n",
    "A client sends you an email asking for a chargeback status. You check the system, and see that we have received his defense documents and sent them to the issuer, but the issuer has not accepted our defense. They claim that the cardholder continued to affirm that she did not receive the product, and our documents were not sufficient to prove otherwise. You respond to our client informing that the issuer denied the defense, and the next day he emails you back, extremely angry and disappointed, claiming the product was delivered and that this chargeback is not right.\n",
    "\n",
    "Considering that the chargeback reason is “Product/Service not provided”, what would you do in this situation?"
   ]
  },
  {
   "cell_type": "markdown",
   "id": "eea15722",
   "metadata": {},
   "source": [
    "In this situation, clear communication and providing a resolution path are essential. Here’s how to respond to your client effectively:\n",
    "\n",
    "1. **Acknowledge the Client’s Concerns**:\n",
    "   - Show empathy and understanding for the client's frustration and disappointment.\n",
    "   - Reassure them that their case is important and you are committed to helping resolve it.\n",
    "\n",
    "\n",
    "2. **Explain the Issuer's Decision**:\n",
    "   - Briefly restate the issuer's reasoning for denying the defense, emphasizing the cardholder's continued claim of non-receipt.\n",
    "\n",
    "\n",
    "3. **Request Additional Evidence**:\n",
    "   - Ask the client for any additional evidence that might support their case, such as:\n",
    "     - Proof of delivery (tracking information, signed delivery receipt, courier confirmation).\n",
    "     - Correspondence with the cardholder confirming receipt.\n",
    "     - Photos of the delivered product, if applicable.\n",
    "     - Any other documentation that can substantiate their claim.\n",
    "\n",
    "\n",
    "4. **Next Steps and Possible Resolution**:\n",
    "   - Inform the client of the next steps you will take once additional evidence is provided.\n",
    "   - Outline the possible outcomes and what actions can be taken if the additional evidence is still not accepted by the issuer.\n",
    "   - Offer alternative solutions, such as contacting the cardholder directly to resolve the issue or exploring other dispute resolution mechanisms.\n",
    "\n",
    "\n",
    "5. **Offer Assistance and Follow-Up**:\n",
    "   - Reiterate your support and willingness to assist further.\n",
    "   - Provide a timeline for when they can expect a follow-up or resolution.\n",
    "---"
   ]
  },
  {
   "cell_type": "markdown",
   "id": "b27973ff",
   "metadata": {},
   "source": [
    "## 3. Get your hands dirty\n",
    "\n",
    "Attached herein lies a [spreadsheet](https://gist.github.com/cloudwalk-tests/76993838e65d7e0f988f40f1b1909c97#file-transactional-sample-csv) with hypothetical transactional data. Imagine that you are trying to understand if there is any kind of suspicious behavior."
   ]
  },
  {
   "cell_type": "code",
   "execution_count": 10,
   "id": "7f6b22be",
   "metadata": {},
   "outputs": [],
   "source": [
    "import pandas as pd\n",
    "import matplotlib.pyplot as plt"
   ]
  },
  {
   "cell_type": "code",
   "execution_count": 2,
   "id": "5b1d69e9",
   "metadata": {},
   "outputs": [
    {
     "data": {
      "text/html": [
       "<div>\n",
       "<style scoped>\n",
       "    .dataframe tbody tr th:only-of-type {\n",
       "        vertical-align: middle;\n",
       "    }\n",
       "\n",
       "    .dataframe tbody tr th {\n",
       "        vertical-align: top;\n",
       "    }\n",
       "\n",
       "    .dataframe thead th {\n",
       "        text-align: right;\n",
       "    }\n",
       "</style>\n",
       "<table border=\"1\" class=\"dataframe\">\n",
       "  <thead>\n",
       "    <tr style=\"text-align: right;\">\n",
       "      <th></th>\n",
       "      <th>transaction_id</th>\n",
       "      <th>merchant_id</th>\n",
       "      <th>user_id</th>\n",
       "      <th>card_number</th>\n",
       "      <th>transaction_date</th>\n",
       "      <th>transaction_amount</th>\n",
       "      <th>device_id</th>\n",
       "      <th>has_cbk</th>\n",
       "    </tr>\n",
       "  </thead>\n",
       "  <tbody>\n",
       "    <tr>\n",
       "      <th>0</th>\n",
       "      <td>21320398</td>\n",
       "      <td>29744</td>\n",
       "      <td>97051</td>\n",
       "      <td>434505******9116</td>\n",
       "      <td>2019-12-01T23:16:32.812632</td>\n",
       "      <td>374.56</td>\n",
       "      <td>285475.0</td>\n",
       "      <td>False</td>\n",
       "    </tr>\n",
       "    <tr>\n",
       "      <th>1</th>\n",
       "      <td>21320399</td>\n",
       "      <td>92895</td>\n",
       "      <td>2708</td>\n",
       "      <td>444456******4210</td>\n",
       "      <td>2019-12-01T22:45:37.873639</td>\n",
       "      <td>734.87</td>\n",
       "      <td>497105.0</td>\n",
       "      <td>True</td>\n",
       "    </tr>\n",
       "    <tr>\n",
       "      <th>2</th>\n",
       "      <td>21320400</td>\n",
       "      <td>47759</td>\n",
       "      <td>14777</td>\n",
       "      <td>425850******7024</td>\n",
       "      <td>2019-12-01T22:22:43.021495</td>\n",
       "      <td>760.36</td>\n",
       "      <td>NaN</td>\n",
       "      <td>False</td>\n",
       "    </tr>\n",
       "    <tr>\n",
       "      <th>3</th>\n",
       "      <td>21320401</td>\n",
       "      <td>68657</td>\n",
       "      <td>69758</td>\n",
       "      <td>464296******3991</td>\n",
       "      <td>2019-12-01T21:59:19.797129</td>\n",
       "      <td>2556.13</td>\n",
       "      <td>NaN</td>\n",
       "      <td>True</td>\n",
       "    </tr>\n",
       "    <tr>\n",
       "      <th>4</th>\n",
       "      <td>21320402</td>\n",
       "      <td>54075</td>\n",
       "      <td>64367</td>\n",
       "      <td>650487******6116</td>\n",
       "      <td>2019-12-01T21:30:53.347051</td>\n",
       "      <td>55.36</td>\n",
       "      <td>860232.0</td>\n",
       "      <td>False</td>\n",
       "    </tr>\n",
       "    <tr>\n",
       "      <th>...</th>\n",
       "      <td>...</td>\n",
       "      <td>...</td>\n",
       "      <td>...</td>\n",
       "      <td>...</td>\n",
       "      <td>...</td>\n",
       "      <td>...</td>\n",
       "      <td>...</td>\n",
       "      <td>...</td>\n",
       "    </tr>\n",
       "    <tr>\n",
       "      <th>3194</th>\n",
       "      <td>21323592</td>\n",
       "      <td>50493</td>\n",
       "      <td>49581</td>\n",
       "      <td>650486******4139</td>\n",
       "      <td>2019-11-01T13:05:34.054967</td>\n",
       "      <td>744.15</td>\n",
       "      <td>NaN</td>\n",
       "      <td>False</td>\n",
       "    </tr>\n",
       "    <tr>\n",
       "      <th>3195</th>\n",
       "      <td>21323593</td>\n",
       "      <td>9603</td>\n",
       "      <td>59275</td>\n",
       "      <td>528052******3611</td>\n",
       "      <td>2019-11-01T11:47:02.404963</td>\n",
       "      <td>1403.67</td>\n",
       "      <td>NaN</td>\n",
       "      <td>False</td>\n",
       "    </tr>\n",
       "    <tr>\n",
       "      <th>3196</th>\n",
       "      <td>21323594</td>\n",
       "      <td>57997</td>\n",
       "      <td>84486</td>\n",
       "      <td>522688******9874</td>\n",
       "      <td>2019-11-01T10:23:50.555604</td>\n",
       "      <td>1.55</td>\n",
       "      <td>NaN</td>\n",
       "      <td>False</td>\n",
       "    </tr>\n",
       "    <tr>\n",
       "      <th>3197</th>\n",
       "      <td>21323595</td>\n",
       "      <td>35930</td>\n",
       "      <td>7</td>\n",
       "      <td>544315******7773</td>\n",
       "      <td>2019-11-01T01:29:45.799767</td>\n",
       "      <td>359.68</td>\n",
       "      <td>NaN</td>\n",
       "      <td>False</td>\n",
       "    </tr>\n",
       "    <tr>\n",
       "      <th>3198</th>\n",
       "      <td>21323596</td>\n",
       "      <td>17348</td>\n",
       "      <td>8</td>\n",
       "      <td>650487******9884</td>\n",
       "      <td>2019-11-01T01:27:15.811098</td>\n",
       "      <td>2416.70</td>\n",
       "      <td>NaN</td>\n",
       "      <td>False</td>\n",
       "    </tr>\n",
       "  </tbody>\n",
       "</table>\n",
       "<p>3199 rows × 8 columns</p>\n",
       "</div>"
      ],
      "text/plain": [
       "      transaction_id  merchant_id  user_id       card_number  \\\n",
       "0           21320398        29744    97051  434505******9116   \n",
       "1           21320399        92895     2708  444456******4210   \n",
       "2           21320400        47759    14777  425850******7024   \n",
       "3           21320401        68657    69758  464296******3991   \n",
       "4           21320402        54075    64367  650487******6116   \n",
       "...              ...          ...      ...               ...   \n",
       "3194        21323592        50493    49581  650486******4139   \n",
       "3195        21323593         9603    59275  528052******3611   \n",
       "3196        21323594        57997    84486  522688******9874   \n",
       "3197        21323595        35930        7  544315******7773   \n",
       "3198        21323596        17348        8  650487******9884   \n",
       "\n",
       "                transaction_date  transaction_amount  device_id  has_cbk  \n",
       "0     2019-12-01T23:16:32.812632              374.56   285475.0    False  \n",
       "1     2019-12-01T22:45:37.873639              734.87   497105.0     True  \n",
       "2     2019-12-01T22:22:43.021495              760.36        NaN    False  \n",
       "3     2019-12-01T21:59:19.797129             2556.13        NaN     True  \n",
       "4     2019-12-01T21:30:53.347051               55.36   860232.0    False  \n",
       "...                          ...                 ...        ...      ...  \n",
       "3194  2019-11-01T13:05:34.054967              744.15        NaN    False  \n",
       "3195  2019-11-01T11:47:02.404963             1403.67        NaN    False  \n",
       "3196  2019-11-01T10:23:50.555604                1.55        NaN    False  \n",
       "3197  2019-11-01T01:29:45.799767              359.68        NaN    False  \n",
       "3198  2019-11-01T01:27:15.811098             2416.70        NaN    False  \n",
       "\n",
       "[3199 rows x 8 columns]"
      ]
     },
     "execution_count": 2,
     "metadata": {},
     "output_type": "execute_result"
    }
   ],
   "source": [
    "data = pd.read_csv('transactional-sample.csv')\n",
    "data"
   ]
  },
  {
   "cell_type": "markdown",
   "id": "854d2f82",
   "metadata": {},
   "source": [
    "The dataset has 8 variables and 3199 observations, 12% of which are chargebacks."
   ]
  },
  {
   "cell_type": "code",
   "execution_count": 3,
   "id": "9c56eb87",
   "metadata": {},
   "outputs": [
    {
     "data": {
      "text/plain": [
       "False    87.77743\n",
       "True     12.22257\n",
       "Name: has_cbk, dtype: float64"
      ]
     },
     "execution_count": 3,
     "metadata": {},
     "output_type": "execute_result"
    }
   ],
   "source": [
    "data.has_cbk.value_counts(normalize=True) * 100"
   ]
  },
  {
   "cell_type": "code",
   "execution_count": 16,
   "id": "821c97c6",
   "metadata": {},
   "outputs": [
    {
     "data": {
      "image/png": "[encoded data removed]",
      "text/plain": [
       "<Figure size 432x288 with 1 Axes>"
      ]
     },
     "metadata": {
      "needs_background": "light"
     },
     "output_type": "display_data"
    }
   ],
   "source": [
    "data['transaction_amount'].hist(bins=30, edgecolor='black')\n",
    "plt.title('Histogram of Transaction Amount')\n",
    "plt.xlabel('Value')\n",
    "plt.ylabel('Frequency')\n",
    "plt.show()"
   ]
  },
  {
   "cell_type": "code",
   "execution_count": 18,
   "id": "476072b4",
   "metadata": {},
   "outputs": [
    {
     "data": {
      "text/html": [
       "<div>\n",
       "<style scoped>\n",
       "    .dataframe tbody tr th:only-of-type {\n",
       "        vertical-align: middle;\n",
       "    }\n",
       "\n",
       "    .dataframe tbody tr th {\n",
       "        vertical-align: top;\n",
       "    }\n",
       "\n",
       "    .dataframe thead th {\n",
       "        text-align: right;\n",
       "    }\n",
       "</style>\n",
       "<table border=\"1\" class=\"dataframe\">\n",
       "  <thead>\n",
       "    <tr style=\"text-align: right;\">\n",
       "      <th></th>\n",
       "      <th>transaction_id</th>\n",
       "      <th>merchant_id</th>\n",
       "      <th>user_id</th>\n",
       "      <th>card_number</th>\n",
       "      <th>transaction_date</th>\n",
       "      <th>transaction_amount</th>\n",
       "      <th>device_id</th>\n",
       "      <th>has_cbk</th>\n",
       "    </tr>\n",
       "  </thead>\n",
       "  <tbody>\n",
       "    <tr>\n",
       "      <th>1</th>\n",
       "      <td>21320399</td>\n",
       "      <td>92895</td>\n",
       "      <td>2708</td>\n",
       "      <td>444456******4210</td>\n",
       "      <td>2019-12-01T22:45:37.873639</td>\n",
       "      <td>734.87</td>\n",
       "      <td>497105.0</td>\n",
       "      <td>True</td>\n",
       "    </tr>\n",
       "    <tr>\n",
       "      <th>3</th>\n",
       "      <td>21320401</td>\n",
       "      <td>68657</td>\n",
       "      <td>69758</td>\n",
       "      <td>464296******3991</td>\n",
       "      <td>2019-12-01T21:59:19.797129</td>\n",
       "      <td>2556.13</td>\n",
       "      <td>NaN</td>\n",
       "      <td>True</td>\n",
       "    </tr>\n",
       "    <tr>\n",
       "      <th>7</th>\n",
       "      <td>21320405</td>\n",
       "      <td>56107</td>\n",
       "      <td>81152</td>\n",
       "      <td>650516******9201</td>\n",
       "      <td>2019-12-01T21:24:05.608374</td>\n",
       "      <td>188.68</td>\n",
       "      <td>486.0</td>\n",
       "      <td>True</td>\n",
       "    </tr>\n",
       "    <tr>\n",
       "      <th>8</th>\n",
       "      <td>21320406</td>\n",
       "      <td>56107</td>\n",
       "      <td>81152</td>\n",
       "      <td>650516******9201</td>\n",
       "      <td>2019-12-01T21:13:21.529999</td>\n",
       "      <td>352.77</td>\n",
       "      <td>486.0</td>\n",
       "      <td>True</td>\n",
       "    </tr>\n",
       "    <tr>\n",
       "      <th>9</th>\n",
       "      <td>21320407</td>\n",
       "      <td>56107</td>\n",
       "      <td>81152</td>\n",
       "      <td>650516******9201</td>\n",
       "      <td>2019-12-01T21:04:55.066909</td>\n",
       "      <td>345.68</td>\n",
       "      <td>486.0</td>\n",
       "      <td>True</td>\n",
       "    </tr>\n",
       "    <tr>\n",
       "      <th>...</th>\n",
       "      <td>...</td>\n",
       "      <td>...</td>\n",
       "      <td>...</td>\n",
       "      <td>...</td>\n",
       "      <td>...</td>\n",
       "      <td>...</td>\n",
       "      <td>...</td>\n",
       "      <td>...</td>\n",
       "    </tr>\n",
       "    <tr>\n",
       "      <th>3157</th>\n",
       "      <td>21323555</td>\n",
       "      <td>41354</td>\n",
       "      <td>19820</td>\n",
       "      <td>606282******6581</td>\n",
       "      <td>2019-11-02T18:04:22.088172</td>\n",
       "      <td>4028.55</td>\n",
       "      <td>NaN</td>\n",
       "      <td>True</td>\n",
       "    </tr>\n",
       "    <tr>\n",
       "      <th>3165</th>\n",
       "      <td>21323563</td>\n",
       "      <td>41354</td>\n",
       "      <td>19820</td>\n",
       "      <td>606282******6581</td>\n",
       "      <td>2019-11-02T16:33:21.333131</td>\n",
       "      <td>4031.00</td>\n",
       "      <td>NaN</td>\n",
       "      <td>True</td>\n",
       "    </tr>\n",
       "    <tr>\n",
       "      <th>3178</th>\n",
       "      <td>21323576</td>\n",
       "      <td>16266</td>\n",
       "      <td>96495</td>\n",
       "      <td>522840******2045</td>\n",
       "      <td>2019-11-01T22:10:49.517024</td>\n",
       "      <td>762.18</td>\n",
       "      <td>NaN</td>\n",
       "      <td>True</td>\n",
       "    </tr>\n",
       "    <tr>\n",
       "      <th>3180</th>\n",
       "      <td>21323578</td>\n",
       "      <td>16266</td>\n",
       "      <td>96495</td>\n",
       "      <td>552305******4782</td>\n",
       "      <td>2019-11-01T20:54:04.014855</td>\n",
       "      <td>2936.66</td>\n",
       "      <td>NaN</td>\n",
       "      <td>True</td>\n",
       "    </tr>\n",
       "    <tr>\n",
       "      <th>3185</th>\n",
       "      <td>21323583</td>\n",
       "      <td>77570</td>\n",
       "      <td>75889</td>\n",
       "      <td>527496******2850</td>\n",
       "      <td>2019-11-01T19:19:50.609011</td>\n",
       "      <td>1726.65</td>\n",
       "      <td>NaN</td>\n",
       "      <td>True</td>\n",
       "    </tr>\n",
       "  </tbody>\n",
       "</table>\n",
       "<p>391 rows × 8 columns</p>\n",
       "</div>"
      ],
      "text/plain": [
       "      transaction_id  merchant_id  user_id       card_number  \\\n",
       "1           21320399        92895     2708  444456******4210   \n",
       "3           21320401        68657    69758  464296******3991   \n",
       "7           21320405        56107    81152  650516******9201   \n",
       "8           21320406        56107    81152  650516******9201   \n",
       "9           21320407        56107    81152  650516******9201   \n",
       "...              ...          ...      ...               ...   \n",
       "3157        21323555        41354    19820  606282******6581   \n",
       "3165        21323563        41354    19820  606282******6581   \n",
       "3178        21323576        16266    96495  522840******2045   \n",
       "3180        21323578        16266    96495  552305******4782   \n",
       "3185        21323583        77570    75889  527496******2850   \n",
       "\n",
       "                transaction_date  transaction_amount  device_id  has_cbk  \n",
       "1     2019-12-01T22:45:37.873639              734.87   497105.0     True  \n",
       "3     2019-12-01T21:59:19.797129             2556.13        NaN     True  \n",
       "7     2019-12-01T21:24:05.608374              188.68      486.0     True  \n",
       "8     2019-12-01T21:13:21.529999              352.77      486.0     True  \n",
       "9     2019-12-01T21:04:55.066909              345.68      486.0     True  \n",
       "...                          ...                 ...        ...      ...  \n",
       "3157  2019-11-02T18:04:22.088172             4028.55        NaN     True  \n",
       "3165  2019-11-02T16:33:21.333131             4031.00        NaN     True  \n",
       "3178  2019-11-01T22:10:49.517024              762.18        NaN     True  \n",
       "3180  2019-11-01T20:54:04.014855             2936.66        NaN     True  \n",
       "3185  2019-11-01T19:19:50.609011             1726.65        NaN     True  \n",
       "\n",
       "[391 rows x 8 columns]"
      ]
     },
     "execution_count": 18,
     "metadata": {},
     "output_type": "execute_result"
    }
   ],
   "source": [
    "has_cbk = data[data['has_cbk'] == True]\n",
    "has_cbk"
   ]
  },
  {
   "cell_type": "code",
   "execution_count": 20,
   "id": "afa5c78c",
   "metadata": {},
   "outputs": [
    {
     "data": {
      "image/png": "[encoded data removed]",
      "text/plain": [
       "<Figure size 432x288 with 1 Axes>"
      ]
     },
     "metadata": {
      "needs_background": "light"
     },
     "output_type": "display_data"
    }
   ],
   "source": [
    "has_cbk['transaction_amount'].hist(bins=30, edgecolor='black')\n",
    "plt.title('Histogram of Transaction Amount with CBK')\n",
    "plt.xlabel('Value')\n",
    "plt.ylabel('Frequency')\n",
    "plt.show()"
   ]
  },
  {
   "cell_type": "code",
   "execution_count": 22,
   "id": "e8e3414b",
   "metadata": {},
   "outputs": [
    {
     "data": {
      "text/plain": [
       "2.89"
      ]
     },
     "execution_count": 22,
     "metadata": {},
     "output_type": "execute_result"
    }
   ],
   "source": [
    "has_cbk['transaction_amount'].min()"
   ]
  },
  {
   "cell_type": "code",
   "execution_count": 21,
   "id": "78092f80",
   "metadata": {},
   "outputs": [
    {
     "data": {
      "text/plain": [
       "4097.21"
      ]
     },
     "execution_count": 21,
     "metadata": {},
     "output_type": "execute_result"
    }
   ],
   "source": [
    "has_cbk['transaction_amount'].max()"
   ]
  },
  {
   "cell_type": "code",
   "execution_count": 23,
   "id": "9917aa22",
   "metadata": {},
   "outputs": [
    {
     "data": {
      "text/plain": [
       "11750    25\n",
       "91637    19\n",
       "79054    15\n",
       "96025    13\n",
       "78262    12\n",
       "         ..\n",
       "74844     1\n",
       "23916     1\n",
       "41281     1\n",
       "23429     1\n",
       "2708      1\n",
       "Name: user_id, Length: 153, dtype: int64"
      ]
     },
     "execution_count": 23,
     "metadata": {},
     "output_type": "execute_result"
    }
   ],
   "source": [
    "has_cbk.user_id.value_counts()"
   ]
  },
  {
   "cell_type": "code",
   "execution_count": 24,
   "id": "11e951d1",
   "metadata": {},
   "outputs": [
    {
     "data": {
      "text/plain": [
       "554482******7640    10\n",
       "530034******3859     6\n",
       "651653******2256     5\n",
       "530034******8258     4\n",
       "441030******2146     4\n",
       "                    ..\n",
       "406655******9249     1\n",
       "406655******8913     1\n",
       "406655******2259     1\n",
       "406655******8833     1\n",
       "527496******2850     1\n",
       "Name: card_number, Length: 274, dtype: int64"
      ]
     },
     "execution_count": 24,
     "metadata": {},
     "output_type": "execute_result"
    }
   ],
   "source": [
    "has_cbk.card_number.value_counts()"
   ]
  },
  {
   "cell_type": "code",
   "execution_count": 25,
   "id": "c6ac6239",
   "metadata": {},
   "outputs": [
    {
     "data": {
      "text/plain": [
       "563499.0    19\n",
       "342890.0    15\n",
       "101848.0    15\n",
       "438940.0    13\n",
       "547440.0    12\n",
       "            ..\n",
       "857439.0     1\n",
       "660508.0     1\n",
       "561984.0     1\n",
       "123636.0     1\n",
       "207247.0     1\n",
       "Name: device_id, Length: 129, dtype: int64"
      ]
     },
     "execution_count": 25,
     "metadata": {},
     "output_type": "execute_result"
    }
   ],
   "source": [
    "has_cbk.device_id.value_counts()"
   ]
  },
  {
   "cell_type": "markdown",
   "id": "4fbacec7",
   "metadata": {},
   "source": [
    "### 3.1. Analyze the data provided and present your conclusions. What suspicious behaviors did you find? What led you to this conclusion? What actions would you take?\n",
    "\n",
    "*Some tips:*\n",
    "    \n",
    "User_id: id of the cardholders;  \n",
    "Device_id: divide used by the cardholder;  \n",
    "Has_cbk: transaction received a fraud chargeback or not;  \n",
    "All the transactions occurred in a card not present environment."
   ]
  },
  {
   "cell_type": "markdown",
   "id": "a01b7328",
   "metadata": {},
   "source": [
    "### 3.2. In addition to the spreadsheet data, what other data would you consider to find patterns of possible fraudulent behavior?"
   ]
  },
  {
   "cell_type": "code",
   "execution_count": null,
   "id": "f728cd88",
   "metadata": {},
   "outputs": [],
   "source": []
  },
  {
   "cell_type": "markdown",
   "id": "74aca63c",
   "metadata": {},
   "source": [
    "### 3.3. Considering your conclusions, what would you further suggest in order to prevent frauds and/or chargebacks?"
   ]
  },
  {
   "cell_type": "code",
   "execution_count": null,
   "id": "3d9df3c5",
   "metadata": {},
   "outputs": [],
   "source": []
  },
  {
   "cell_type": "markdown",
   "id": "084d0659",
   "metadata": {},
   "source": [
    "### 3.4. Create a simple anti-fraud.\n",
    "\n",
    "An Anti-fraud works by receiving information about a transaction and inferring whether it is a fraudulent transaction or not. We work mostly with Ruby and Python, but you can use any programming language that you want.\n",
    "\n",
    "Please use the data provided on challenge 2 to test your solution. Consider that transactions with the flag **has_cbk = true** are transactions with fraud chargebacks.\n",
    "\n",
    "Your Anti-fraud must return a recommendation to approve or deny the transaction."
   ]
  },
  {
   "cell_type": "code",
   "execution_count": null,
   "id": "cffb3275",
   "metadata": {},
   "outputs": [],
   "source": []
  },
  {
   "cell_type": "markdown",
   "id": "cd7dd7c0",
   "metadata": {},
   "source": [
    "---"
   ]
  }
 ],
 "metadata": {
  "hide_input": false,
  "kernelspec": {
   "display_name": "Python 3 (ipykernel)",
   "language": "python",
   "name": "python3"
  },
  "language_info": {
   "codemirror_mode": {
    "name": "ipython",
    "version": 3
   },
   "file_extension": ".py",
   "mimetype": "text/x-python",
   "name": "python",
   "nbconvert_exporter": "python",
   "pygments_lexer": "ipython3",
   "version": "3.9.7"
  }
 },
 "nbformat": 4,
 "nbformat_minor": 5
}
